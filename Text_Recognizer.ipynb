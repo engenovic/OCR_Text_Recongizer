{
 "cells": [
  {
   "cell_type": "code",
   "execution_count": 6,
   "id": "personalized-spectacular",
   "metadata": {},
   "outputs": [],
   "source": [
    "import cv2\n",
    "import pytesseract \n",
    "import re\n",
    "pytesseract.pytesseract.tesseract_cmd=r'C:\\\\Tesseract-OCR\\\\tesseract.exe'"
   ]
  },
  {
   "cell_type": "code",
   "execution_count": 7,
   "id": "offshore-cover",
   "metadata": {},
   "outputs": [],
   "source": [
    "img=cv2.imread('app.jpg')\n"
   ]
  },
  {
   "cell_type": "code",
   "execution_count": 8,
   "id": "amateur-portuguese",
   "metadata": {},
   "outputs": [],
   "source": [
    "text=pytesseract.image_to_string(img)\n",
    "#print(text)"
   ]
  },
  {
   "cell_type": "code",
   "execution_count": 10,
   "id": "seasonal-height",
   "metadata": {},
   "outputs": [
    {
     "data": {
      "text/plain": [
       "True"
      ]
     },
     "execution_count": 10,
     "metadata": {},
     "output_type": "execute_result"
    }
   ],
   "source": [
    "def recognize_words(text, search):\n",
    "    dText   = text.split()\n",
    "    dSearch = search.split()\n",
    "\n",
    "    found_word = 0\n",
    "\n",
    "    for text_word in dText:\n",
    "        for search_word in dSearch:\n",
    "            if search_word == text_word:\n",
    "                found_word += 1\n",
    "\n",
    "    if found_word == len(dSearch):\n",
    "        return True\n",
    "    else:\n",
    "        return False\n",
    "keywords=\"Microsoft Students Graduates Applications\"\n",
    "recognize_words(text,keywords)"
   ]
  },
  {
   "cell_type": "code",
   "execution_count": 56,
   "id": "removed-mount",
   "metadata": {},
   "outputs": [
    {
     "data": {
      "text/plain": [
       "False"
      ]
     },
     "execution_count": 56,
     "metadata": {},
     "output_type": "execute_result"
    }
   ],
   "source": []
  },
  {
   "cell_type": "code",
   "execution_count": null,
   "id": "varying-nigeria",
   "metadata": {},
   "outputs": [],
   "source": []
  }
 ],
 "metadata": {
  "kernelspec": {
   "display_name": "Python 3",
   "language": "python",
   "name": "python3"
  },
  "language_info": {
   "codemirror_mode": {
    "name": "ipython",
    "version": 3
   },
   "file_extension": ".py",
   "mimetype": "text/x-python",
   "name": "python",
   "nbconvert_exporter": "python",
   "pygments_lexer": "ipython3",
   "version": "3.7.7"
  }
 },
 "nbformat": 4,
 "nbformat_minor": 5
}
